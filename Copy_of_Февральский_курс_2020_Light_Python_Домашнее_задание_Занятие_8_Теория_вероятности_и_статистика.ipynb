{
  "nbformat": 4,
  "nbformat_minor": 0,
  "metadata": {
    "colab": {
      "name": "Copy of Февральский курс 2020. Light. Python. Домашнее задание. Занятие 8. Теория вероятности и статистика",
      "provenance": [],
      "collapsed_sections": [],
      "include_colab_link": true
    },
    "kernelspec": {
      "name": "python3",
      "display_name": "Python 3"
    }
  },
  "cells": [
    {
      "cell_type": "markdown",
      "metadata": {
        "id": "view-in-github",
        "colab_type": "text"
      },
      "source": [
        "<a href=\"https://colab.research.google.com/github/Lelxtyrjcthutq/lelxtyrj/blob/master/Copy_of_%D0%A4%D0%B5%D0%B2%D1%80%D0%B0%D0%BB%D1%8C%D1%81%D0%BA%D0%B8%D0%B9_%D0%BA%D1%83%D1%80%D1%81_2020_Light_Python_%D0%94%D0%BE%D0%BC%D0%B0%D1%88%D0%BD%D0%B5%D0%B5_%D0%B7%D0%B0%D0%B4%D0%B0%D0%BD%D0%B8%D0%B5_%D0%97%D0%B0%D0%BD%D1%8F%D1%82%D0%B8%D0%B5_8_%D0%A2%D0%B5%D0%BE%D1%80%D0%B8%D1%8F_%D0%B2%D0%B5%D1%80%D0%BE%D1%8F%D1%82%D0%BD%D0%BE%D1%81%D1%82%D0%B8_%D0%B8_%D1%81%D1%82%D0%B0%D1%82%D0%B8%D1%81%D1%82%D0%B8%D0%BA%D0%B0.ipynb\" target=\"_parent\"><img src=\"https://colab.research.google.com/assets/colab-badge.svg\" alt=\"Open In Colab\"/></a>"
      ]
    },
    {
      "cell_type": "markdown",
      "metadata": {
        "id": "vN_0Eh6V8ZwE",
        "colab_type": "text"
      },
      "source": [
        "**Light**"
      ]
    },
    {
      "cell_type": "markdown",
      "metadata": {
        "id": "sRkt77ZA8Z5w",
        "colab_type": "text"
      },
      "source": [
        "Задача 1\n",
        "\n",
        "В магазин поступило 30 холодильников, пять из которых имеют заводской дефект. Случайным образом выбирают один холодильник. Какова вероятность того, что он будет без дефекта?\n",
        "\n"
      ]
    },
    {
      "cell_type": "code",
      "metadata": {
        "id": "S-yA4fW3uhD0",
        "colab_type": "code",
        "colab": {
          "base_uri": "https://localhost:8080/",
          "height": 34
        },
        "outputId": "ebe5a8f4-8f7b-4725-edb9-f41b51c53f37"
      },
      "source": [
        "\n",
        "#P = m/n\n",
        "m = 5  \n",
        "n = 30\n",
        "P = m/n\n",
        "print(P)"
      ],
      "execution_count": 1,
      "outputs": [
        {
          "output_type": "stream",
          "text": [
            "0.16666666666666666\n"
          ],
          "name": "stdout"
        }
      ]
    },
    {
      "cell_type": "markdown",
      "metadata": {
        "id": "siUB94aa8aBh",
        "colab_type": "text"
      },
      "source": [
        "Задача 2\n",
        "\n",
        "Абонент забыл пин-код к своей сим-карте, однако помнит, что он содержит три «пятёрки», а одна из цифр – то ли «семёрка», то ли «восьмёрка». Какова вероятность успешной авторизации с первой попытки?"
      ]
    },
    {
      "cell_type": "code",
      "metadata": {
        "id": "Y-Fr8sGpuhmi",
        "colab_type": "code",
        "colab": {
          "base_uri": "https://localhost:8080/",
          "height": 34
        },
        "outputId": "9fbfc6a4-0b28-4719-8c5f-4a0ac424cab5"
      },
      "source": [
        "m = 1  \n",
        "n = 2\n",
        "P = m/n\n",
        "print(P)"
      ],
      "execution_count": 2,
      "outputs": [
        {
          "output_type": "stream",
          "text": [
            "0.5\n"
          ],
          "name": "stdout"
        }
      ]
    },
    {
      "cell_type": "markdown",
      "metadata": {
        "id": "jso4N3osCw3r",
        "colab_type": "text"
      },
      "source": [
        "Задача 3\n",
        "\n",
        "Найти вероятность того, что при броске двух игральных костей произведение очков:\n",
        "\n",
        "a) будет равно 6;\n",
        "b) окажется не менее 33;\n",
        "c) будет чётным."
      ]
    },
    {
      "cell_type": "code",
      "metadata": {
        "id": "vDC0dv3Iuh7e",
        "colab_type": "code",
        "colab": {
          "base_uri": "https://localhost:8080/",
          "height": 68
        },
        "outputId": "06377af0-9e57-4421-ddec-30e9e018dfb9"
      },
      "source": [
        "def get_prob(m,n,h):\n",
        "  P = m/float(n)\n",
        "  return \"Для гипотезы {}, ответ: {}\".format(h,P)\n",
        "print(get_prob(4,36,'a'))\n",
        "print(get_prob(34, 36,'б'))\n",
        "print(get_prob(18, 36,'в'))"
      ],
      "execution_count": 21,
      "outputs": [
        {
          "output_type": "stream",
          "text": [
            "Для гипотезы a, ответ: 0.1111111111111111\n",
            "Для гипотезы б, ответ: 0.9444444444444444\n",
            "Для гипотезы в, ответ: 0.5\n"
          ],
          "name": "stdout"
        }
      ]
    },
    {
      "cell_type": "markdown",
      "metadata": {
        "id": "uzR46A52gQB7",
        "colab_type": "text"
      },
      "source": [
        "Задача 4\n",
        "\n",
        "Подбрасывается 20 монет. Найти вероятность того, что:\n",
        "\n",
        "а) на всех монетах выпадет орёл;\n",
        "б) на 12 монетах выпадет орёл, а на одной – решка;\n",
        "в) орёл выпадет КАК МИНИМУМ на половине монет."
      ]
    },
    {
      "cell_type": "code",
      "metadata": {
        "id": "dlQJ8aNPuiVB",
        "colab_type": "code",
        "colab": {
          "base_uri": "https://localhost:8080/",
          "height": 51
        },
        "outputId": "b1268efe-9a10-458b-d7e7-537944d2a41a"
      },
      "source": [
        "def get_prob(a,h):\n",
        "  P_1 = a**20\n",
        "  return \"Для гипотезы {}, ответ: {}\".format(h,P_1)\n",
        "print(get_prob(0.5,'a'))\n",
        "\n",
        "# пункт Б сделать не смог, т.к. не понял (как на 12 монетах выпадет орёл, а на одной – решка - если подбрасываний в сумме 20?)"
      ],
      "execution_count": 43,
      "outputs": [
        {
          "output_type": "stream",
          "text": [
            "Для гипотезы a, ответ: 9.5367431640625e-07\n",
            "Для гипотезы b, ответ: 9.5367431640625e-07\n"
          ],
          "name": "stdout"
        }
      ]
    },
    {
      "cell_type": "code",
      "metadata": {
        "id": "LwjBlNloLkEo",
        "colab_type": "code",
        "colab": {
          "base_uri": "https://localhost:8080/",
          "height": 34
        },
        "outputId": "d1b281b4-34a8-4ab9-dbca-d6882f6daef7"
      },
      "source": [
        "def get_prob(a,h):\n",
        "  P_3 = (a**20)*11\n",
        "  return \"Для гипотезы {}, ответ: {}\".format(h,P_3)\n",
        "print(get_prob(0.5,'c'))"
      ],
      "execution_count": 44,
      "outputs": [
        {
          "output_type": "stream",
          "text": [
            "Для гипотезы c, ответ: 1.049041748046875e-05\n"
          ],
          "name": "stdout"
        }
      ]
    },
    {
      "cell_type": "markdown",
      "metadata": {
        "id": "SKroFk3KjJ0C",
        "colab_type": "text"
      },
      "source": [
        "Задача 5\n",
        "\n",
        "В коробке 12 красных и 8 синих пуговиц. Наудачу извлекаются две пуговицы. Какова вероятность того, что они будут одноцветными?"
      ]
    },
    {
      "cell_type": "code",
      "metadata": {
        "id": "G9DMCizbui-R",
        "colab_type": "code",
        "colab": {
          "base_uri": "https://localhost:8080/",
          "height": 34
        },
        "outputId": "8b2caf3c-439f-4b3d-8cad-03eddb466de2"
      },
      "source": [
        "import math\n",
        "P_1= (math.factorial(12)/math.factorial(12-2)* math.factorial(2))\n",
        "P_2= (math.factorial(8)/math.factorial(8-2)* math.factorial(2))\n",
        "P_3= (math.factorial(20)/math.factorial(20-2)* math.factorial(2))\n",
        "C=(P_1+P_2)/P_3\n",
        "print(C)\n",
        "\n",
        "\n",
        "\n",
        "\n"
      ],
      "execution_count": 61,
      "outputs": [
        {
          "output_type": "stream",
          "text": [
            "0.49473684210526314\n"
          ],
          "name": "stdout"
        }
      ]
    },
    {
      "cell_type": "markdown",
      "metadata": {
        "id": "Df5ze-wYl5VM",
        "colab_type": "text"
      },
      "source": [
        "Задача 6\n",
        "\n",
        "Стрелок попадает в цель с одной и той же вероятностью при каждом выстреле. Какова эта вероятность, если вероятность хотя бы одного попадания при трех выстрелах равна 0,861."
      ]
    },
    {
      "cell_type": "code",
      "metadata": {
        "id": "pM8390gsujVQ",
        "colab_type": "code",
        "colab": {}
      },
      "source": [
        "Вычисляем по формуле Бернулли с обраным условием, когда знаем вероятность промаха при 3 -х выстрелах \n",
        "(1-x)**3=0.139\n",
        "1-x=0.518\n",
        "x=0.492 # Вероятность одного попадания\n"
      ],
      "execution_count": 0,
      "outputs": []
    },
    {
      "cell_type": "markdown",
      "metadata": {
        "id": "ItZzk_cHgxtK",
        "colab_type": "text"
      },
      "source": [
        "**PRO**"
      ]
    },
    {
      "cell_type": "markdown",
      "metadata": {
        "id": "FzeTlcXjg_aK",
        "colab_type": "text"
      },
      "source": [
        "Задача 1\n",
        "\n",
        "На восьмиместную круглую скамейку случайным образом рассаживается 8 человек. \n",
        "\n",
        "Какова вероятность того, что два определённых человека окажутся рядом?"
      ]
    },
    {
      "cell_type": "code",
      "metadata": {
        "id": "PSO_PGyauley",
        "colab_type": "code",
        "colab": {}
      },
      "source": [
        ""
      ],
      "execution_count": 0,
      "outputs": []
    },
    {
      "cell_type": "markdown",
      "metadata": {
        "id": "joYCsCrAhCMS",
        "colab_type": "text"
      },
      "source": [
        "Задача 2\n",
        "\n",
        "На шахматную доску из 64 клеток ставят наудачу две ладьи, белого и чёрного цвета. С какой вероятностью они не будут «бить» друг друга?"
      ]
    },
    {
      "cell_type": "code",
      "metadata": {
        "id": "Vgxnmy3tul2O",
        "colab_type": "code",
        "colab": {}
      },
      "source": [
        ""
      ],
      "execution_count": 0,
      "outputs": []
    },
    {
      "cell_type": "markdown",
      "metadata": {
        "id": "T5Ktv4e8hT5w",
        "colab_type": "text"
      },
      "source": [
        "Задача 3\n",
        "\n",
        "Какова вероятность того, что в 5 сданных картах будет один туз и один король?"
      ]
    },
    {
      "cell_type": "code",
      "metadata": {
        "id": "tn-jed6YumMg",
        "colab_type": "code",
        "colab": {}
      },
      "source": [
        ""
      ],
      "execution_count": 0,
      "outputs": []
    },
    {
      "cell_type": "markdown",
      "metadata": {
        "id": "urJ5XX4JhaUI",
        "colab_type": "text"
      },
      "source": [
        "Задача 4\n",
        "\n",
        "В ящике находится 17 качественных и 6 бракованных деталей. Наудачу извлекаются 2 детали. Найти вероятность того, что:\n",
        "\n",
        "a) обе детали будут качественными;\n",
        "b) одна деталь будет качественной, а одна – бракованной;\n",
        "c) обе детали бракованны."
      ]
    },
    {
      "cell_type": "code",
      "metadata": {
        "id": "QlZHgbZXumol",
        "colab_type": "code",
        "colab": {}
      },
      "source": [
        ""
      ],
      "execution_count": 0,
      "outputs": []
    },
    {
      "cell_type": "markdown",
      "metadata": {
        "id": "d593HPt0kH1f",
        "colab_type": "text"
      },
      "source": [
        "Задача 5\n",
        "\n",
        "Какова вероятность того что первый рабочий день месяца выпадет на понедельник"
      ]
    },
    {
      "cell_type": "code",
      "metadata": {
        "id": "SCEv66vJunJl",
        "colab_type": "code",
        "colab": {}
      },
      "source": [
        ""
      ],
      "execution_count": 0,
      "outputs": []
    },
    {
      "cell_type": "markdown",
      "metadata": {
        "id": "2s1EPIzqkPPH",
        "colab_type": "text"
      },
      "source": [
        "Задача 6\n",
        "\n",
        "Интревал движения трамвая с остановки N 15 минут, тогда как интервал движения автобуса 7 минут. Вы подошли к остановке в произвольный момент времени.\n",
        "\n",
        "a) Какова вероятность прождать автобус не более 3 минут\n",
        "b) Уехать с остановки без ожидания"
      ]
    },
    {
      "cell_type": "code",
      "metadata": {
        "id": "aAT-pMbyuneO",
        "colab_type": "code",
        "colab": {}
      },
      "source": [
        ""
      ],
      "execution_count": 0,
      "outputs": []
    },
    {
      "cell_type": "markdown",
      "metadata": {
        "id": "wCYln_QKlb2B",
        "colab_type": "text"
      },
      "source": [
        "Задача 7\n",
        "\n",
        "Вероятность поражения цели первым стрелком при одном выстреле равна 0,6. Вероятность того, что цель не поражена после выполнения первым и вторым стрелками по одному выстрелу равна 0,06. Какова вероятность поражения цели вторым стрелком при одном выстреле?"
      ]
    },
    {
      "cell_type": "code",
      "metadata": {
        "id": "lPqUyxnuun_K",
        "colab_type": "code",
        "colab": {}
      },
      "source": [
        ""
      ],
      "execution_count": 0,
      "outputs": []
    }
  ]
}