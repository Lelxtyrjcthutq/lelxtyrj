{
  "nbformat": 4,
  "nbformat_minor": 0,
  "metadata": {
    "colab": {
      "name": "Copy of Февральский курс 2020. Light. Python. Домашнее задание 7. Множества, бинарная логика, комбинаторика",
      "provenance": [],
      "collapsed_sections": [
        "ozHQXry5n2IS",
        "3Mq5CACckeYC",
        "UzNhGIlbeF9r"
      ],
      "include_colab_link": true
    },
    "kernelspec": {
      "name": "python3",
      "display_name": "Python 3"
    }
  },
  "cells": [
    {
      "cell_type": "markdown",
      "metadata": {
        "id": "view-in-github",
        "colab_type": "text"
      },
      "source": [
        "<a href=\"https://colab.research.google.com/github/Lelxtyrjcthutq/lelxtyrj/blob/master/Copy_of_%D0%A4%D0%B5%D0%B2%D1%80%D0%B0%D0%BB%D1%8C%D1%81%D0%BA%D0%B8%D0%B9_%D0%BA%D1%83%D1%80%D1%81_2020_Light_Python_%D0%94%D0%BE%D0%BC%D0%B0%D1%88%D0%BD%D0%B5%D0%B5_%D0%B7%D0%B0%D0%B4%D0%B0%D0%BD%D0%B8%D0%B5_7_%D0%9C%D0%BD%D0%BE%D0%B6%D0%B5%D1%81%D1%82%D0%B2%D0%B0%2C_%D0%B1%D0%B8%D0%BD%D0%B0%D1%80%D0%BD%D0%B0%D1%8F_%D0%BB%D0%BE%D0%B3%D0%B8%D0%BA%D0%B0%2C_%D0%BA%D0%BE%D0%BC%D0%B1%D0%B8%D0%BD%D0%B0%D1%82%D0%BE%D1%80%D0%B8%D0%BA%D0%B0.ipynb\" target=\"_parent\"><img src=\"https://colab.research.google.com/assets/colab-badge.svg\" alt=\"Open In Colab\"/></a>"
      ]
    },
    {
      "cell_type": "markdown",
      "metadata": {
        "id": "ozHQXry5n2IS",
        "colab_type": "text"
      },
      "source": [
        "## Множества"
      ]
    },
    {
      "cell_type": "markdown",
      "metadata": {
        "id": "mEyOoNiAdgdm",
        "colab_type": "text"
      },
      "source": [
        "**Light**\n"
      ]
    },
    {
      "cell_type": "markdown",
      "metadata": {
        "id": "2YOEEyyKuYDY",
        "colab_type": "text"
      },
      "source": [
        "###Задача 1\n",
        " \n",
        "  Записать множество Е, если $E = A\\cap B $, причем А={2, 4, 6, 8, 10, 12}, B={3, 6, 9, 12}."
      ]
    },
    {
      "cell_type": "code",
      "metadata": {
        "id": "qBVQ5iklu1pD",
        "colab_type": "code",
        "colab": {
          "base_uri": "https://localhost:8080/",
          "height": 34
        },
        "outputId": "e65f2ac5-d714-4451-f07b-b62e9d64464a"
      },
      "source": [
        "a= {2, 4, 6, 8, 10, 12}\n",
        "b= {3, 6, 9, 12}\n",
        "\n",
        "E = {e for e in a if e in b}\n",
        "print(E)"
      ],
      "execution_count": 3,
      "outputs": [
        {
          "output_type": "stream",
          "text": [
            "{12, 6}\n"
          ],
          "name": "stdout"
        }
      ]
    },
    {
      "cell_type": "markdown",
      "metadata": {
        "id": "JaYsr8M1ugtk",
        "colab_type": "text"
      },
      "source": [
        "###Задача 2\n",
        " \n",
        "  Записать множество Е, если $E = A\\cup B $, причем А={1, 6, 2, 7, 9, 3}, B={1, 6, 2, 7, 9, 3}."
      ]
    },
    {
      "cell_type": "code",
      "metadata": {
        "id": "Ar-v905tu2Ke",
        "colab_type": "code",
        "colab": {
          "base_uri": "https://localhost:8080/",
          "height": 34
        },
        "outputId": "f315a6d1-e4f9-46f2-8735-014010549fd8"
      },
      "source": [
        "a= {1, 6, 2, 7, 9, 3}\n",
        "b= {1, 6, 2, 7, 9, 3}\n",
        "\n",
        "a.update(b)\n",
        "print (a)"
      ],
      "execution_count": 15,
      "outputs": [
        {
          "output_type": "stream",
          "text": [
            "{1, 2, 3, 6, 7, 9}\n"
          ],
          "name": "stdout"
        }
      ]
    },
    {
      "cell_type": "markdown",
      "metadata": {
        "id": "yLHWoqHEui0O",
        "colab_type": "text"
      },
      "source": [
        "###Задача 3\n",
        " \n",
        "  Записать множество Е, если $E = A\\B $, причем А={2, 4, 6, 8, 10, 12}, B={1, {3, 6, 9, 12}."
      ]
    },
    {
      "cell_type": "code",
      "metadata": {
        "id": "cfFu7FOau3U1",
        "colab_type": "code",
        "colab": {
          "base_uri": "https://localhost:8080/",
          "height": 34
        },
        "outputId": "b0dc6071-cce6-4478-f4ea-f30f280b376c"
      },
      "source": [
        "a= {2, 4, 6, 8, 10, 12}\n",
        "b= {1, 3, 6, 9, 12}\n",
        "\n",
        "E = {e for e in a if e not in b}\n",
        "print (E)"
      ],
      "execution_count": 10,
      "outputs": [
        {
          "output_type": "stream",
          "text": [
            "{8, 2, 10, 4}\n"
          ],
          "name": "stdout"
        }
      ]
    },
    {
      "cell_type": "markdown",
      "metadata": {
        "id": "wnRDpITRumnS",
        "colab_type": "text"
      },
      "source": [
        "###Задача 4\n",
        " \n",
        "  Записать множество Е, если $E = A\\cap B $, причем А={1, 6, 2, 7, 9, 3}, B={1, 6, 2, 7, 9, 3}."
      ]
    },
    {
      "cell_type": "code",
      "metadata": {
        "id": "uUeSaptHu4Ha",
        "colab_type": "code",
        "colab": {
          "base_uri": "https://localhost:8080/",
          "height": 34
        },
        "outputId": "b8a4037f-24cf-4ab6-cf4b-7eda0df9df4d"
      },
      "source": [
        "a = {1, 6, 2, 7, 9, 3}\n",
        "b = {1, 6, 2, 7, 9, 3}\n",
        "\n",
        "E = {e for e in a if e in b}\n",
        "print(E)"
      ],
      "execution_count": 13,
      "outputs": [
        {
          "output_type": "stream",
          "text": [
            "{1, 2, 3, 6, 7, 9}\n"
          ],
          "name": "stdout"
        }
      ]
    },
    {
      "cell_type": "markdown",
      "metadata": {
        "id": "YKz-zW2jum28",
        "colab_type": "text"
      },
      "source": [
        "###Задача 5\n",
        "  Дано Множество А={1, 2, 4}, существует множество B, такое что B\\E = {3} и $A\\cap B$ = {1} \n",
        "\n",
        "Найти множество B, если его мощность равна 2"
      ]
    },
    {
      "cell_type": "code",
      "metadata": {
        "id": "zTcBhC5Qu4nY",
        "colab_type": "code",
        "colab": {}
      },
      "source": [
        "A = {1, 2, 4}\n",
        "B = {1, 3}\n",
        "\n"
      ],
      "execution_count": 0,
      "outputs": []
    },
    {
      "cell_type": "markdown",
      "metadata": {
        "id": "Ot3-X0GQpNFp",
        "colab_type": "text"
      },
      "source": [
        "**PRO**\n"
      ]
    },
    {
      "cell_type": "markdown",
      "metadata": {
        "id": "G3WaP_OSu8Kw",
        "colab_type": "text"
      },
      "source": [
        "###Задача 1\n",
        "\n",
        "Доказать что $ A \\(A\\B) = A\\cap B $"
      ]
    },
    {
      "cell_type": "code",
      "metadata": {
        "id": "qwujWqh-vQfM",
        "colab_type": "code",
        "colab": {}
      },
      "source": [
        ""
      ],
      "execution_count": 0,
      "outputs": []
    },
    {
      "cell_type": "markdown",
      "metadata": {
        "id": "emTEZyOPu8Sg",
        "colab_type": "text"
      },
      "source": [
        "###Задача 2\n",
        "\n",
        "Доказать что $ A = (A\\cap B) \\cup (A\\B) $"
      ]
    },
    {
      "cell_type": "code",
      "metadata": {
        "id": "AsI4pkPpvP-a",
        "colab_type": "code",
        "colab": {}
      },
      "source": [
        ""
      ],
      "execution_count": 0,
      "outputs": []
    },
    {
      "cell_type": "markdown",
      "metadata": {
        "id": "TgKIOnlDu8cd",
        "colab_type": "text"
      },
      "source": [
        "###Задача 3\n",
        "\n",
        "В классе 36 учеников. Каждый из них пользуется хотя бы одним из видов городского транспорта: метро, автобусом и троллейбусом. Всеми тремя видами транспорта пользуются 5 учеников, метро и автобусом – 17 учеников, метро и троллейбусом – 15 учеников, троллейбусом и автобусом – 7 учеников.\n",
        "\n",
        "Сколько учеников пользуются только одним видом транспорта?\n"
      ]
    },
    {
      "cell_type": "code",
      "metadata": {
        "id": "I9KwweluvPWt",
        "colab_type": "code",
        "colab": {}
      },
      "source": [
        ""
      ],
      "execution_count": 0,
      "outputs": []
    },
    {
      "cell_type": "markdown",
      "metadata": {
        "id": "yCl-xEaju8CI",
        "colab_type": "text"
      },
      "source": [
        "###Задача 4\n",
        "\n",
        "Первую или вторую контрольные работы по математике успешно написали 34 студента, первую или третью – 32 студент, вторую или третью – 31 студент. Не менее двух контрольных работ выполнили 20 студентов.\n",
        "\n",
        "Сколько студентов успешно решили только одну контрольную работу?"
      ]
    },
    {
      "cell_type": "code",
      "metadata": {
        "id": "9KkSB0DOeAGh",
        "colab_type": "code",
        "colab": {}
      },
      "source": [
        ""
      ],
      "execution_count": 0,
      "outputs": []
    },
    {
      "cell_type": "markdown",
      "metadata": {
        "id": "3Mq5CACckeYC",
        "colab_type": "text"
      },
      "source": [
        "# Комбинаторика"
      ]
    },
    {
      "cell_type": "markdown",
      "metadata": {
        "id": "AyvQdM4-kh5u",
        "colab_type": "text"
      },
      "source": [
        "**Light**\n",
        "\n"
      ]
    },
    {
      "cell_type": "markdown",
      "metadata": {
        "id": "mou3NzKpvSgV",
        "colab_type": "text"
      },
      "source": [
        "###Задача 1\n",
        "\n",
        "Сколько четырёхзначных чисел можно составить из четырёх цифр 1, 6, 3, 0?"
      ]
    },
    {
      "cell_type": "code",
      "metadata": {
        "id": "7uZOCkkQvylp",
        "colab_type": "code",
        "colab": {
          "base_uri": "https://localhost:8080/",
          "height": 146
        },
        "outputId": "f47103d2-3734-4ef4-dc88-b8533b863bdf"
      },
      "source": [
        "import math\n",
        "def C_n_m(3,1):\n",
        "return factorial(3)/ (factorial(3-1)* factorial(1))\n",
        "def C_n_m(4,1):\n",
        "return factorial(4)/ (factorial(4-1)* factorial(1))\n",
        "def C_n_m(4,1):\n",
        "return factorial(4)/ (factorial(4-1)* factorial(1))\n",
        "def C_n_m(4,1):\n",
        "return factorial(4)/ (factorial(4-1)* factorial(1))\n",
        "print(C_n_m(3,1) * C_n_m(4,1) * C_n_m(4,1) * C_n_m(4,1))"
      ],
      "execution_count": 0,
      "outputs": [
        {
          "output_type": "error",
          "ename": "SyntaxError",
          "evalue": "ignored",
          "traceback": [
            "\u001b[0;36m  File \u001b[0;32m\"<ipython-input-1-d08554f0272c>\"\u001b[0;36m, line \u001b[0;32m2\u001b[0m\n\u001b[0;31m    def C_n_m(3,1):\u001b[0m\n\u001b[0m              ^\u001b[0m\n\u001b[0;31mSyntaxError\u001b[0m\u001b[0;31m:\u001b[0m invalid syntax\n"
          ]
        },
        {
          "output_type": "stream",
          "text": [
            "ERROR! Session/line number was not unique in database. History logging moved to new session 59\n"
          ],
          "name": "stdout"
        }
      ]
    },
    {
      "cell_type": "markdown",
      "metadata": {
        "id": "ftyDoxBtvSuF",
        "colab_type": "text"
      },
      "source": [
        "###Задача 2\n",
        "\n",
        "Сколькими способами из колоды в 36 карт можно выбрать 3 карты?"
      ]
    },
    {
      "cell_type": "code",
      "metadata": {
        "id": "ai5H3ludvzFW",
        "colab_type": "code",
        "colab": {}
      },
      "source": [
        "def C_n_m(36,3):\n",
        "  return factorial(36)/ (factorial(36-3)* factorial(3))\n",
        "  print(C_n_m(36,3))"
      ],
      "execution_count": 0,
      "outputs": []
    },
    {
      "cell_type": "markdown",
      "metadata": {
        "id": "HQirwSuavS4t",
        "colab_type": "text"
      },
      "source": [
        "###Задача 3\n",
        "\n",
        "На должности менеджера по продажам и его ассистента подали резюме 23 человека. Сколькими способами можно выбрать финальных 2-х кандидатов?"
      ]
    },
    {
      "cell_type": "code",
      "metadata": {
        "id": "7lMrkGDbvzp4",
        "colab_type": "code",
        "colab": {}
      },
      "source": [
        "def C_n_m(23,2):\n",
        "  return factorial(23)/ (factorial(23-2)* factorial(2))\n",
        "  print(C_n_m(23,2))"
      ],
      "execution_count": 0,
      "outputs": []
    },
    {
      "cell_type": "markdown",
      "metadata": {
        "id": "miIhi7VUvS8p",
        "colab_type": "text"
      },
      "source": [
        "###Задача 4\n",
        "Сколько различных сочетаний можно получить перестановкой букв в словосочетании: НУЖНО ЛЮБИТЬ МАТЕМАТИКУ и КОТИКОВ?"
      ]
    },
    {
      "cell_type": "code",
      "metadata": {
        "id": "pVFd1VIov0RA",
        "colab_type": "code",
        "colab": {}
      },
      "source": [
        "P28(2,2,1,3,1,1,1,3,4,1,2,2,1,3,1,)\n",
        "P28 = (28!)/ (2!*2!*3!*3!*4!*2!*2!*3!)"
      ],
      "execution_count": 0,
      "outputs": []
    },
    {
      "cell_type": "markdown",
      "metadata": {
        "id": "i-lUADpzvTMq",
        "colab_type": "text"
      },
      "source": [
        "###Задача 5\n",
        "\n",
        "В кошельке находится  1, 2 и 10 рублевые моонеты Сколькими способами можно извлечь 4 монеты из кошелька?"
      ]
    },
    {
      "cell_type": "code",
      "metadata": {
        "id": "3jrYYLIAv09O",
        "colab_type": "code",
        "colab": {}
      },
      "source": [
        "n = 3\n",
        "m = 4\n",
        "res = C_n_m_rep(n,m)\n",
        "\n",
        "print(\"{} способами можно извлечь 4 монеты\".format(res))"
      ],
      "execution_count": 0,
      "outputs": []
    },
    {
      "cell_type": "markdown",
      "metadata": {
        "id": "zYNvIKpOvTju",
        "colab_type": "text"
      },
      "source": [
        "###Задача 6\n",
        "\n",
        "Сколько существует всего вариантов IPv4 адресов (https://ru.wikipedia.org/wiki/IPv4) ?"
      ]
    },
    {
      "cell_type": "code",
      "metadata": {
        "id": "yC6A35DKeAdJ",
        "colab_type": "code",
        "colab": {}
      },
      "source": [
        "def C_n_m(256,1):\n",
        "return factorial(256)/ (factorial(256-1)* factorial(1))\n",
        "def C_n_m(256,1):\n",
        "return factorial(256)/ (factorial(256-1)* factorial(1))\n",
        "def C_n_m(256,1):\n",
        "return factorial(256)/ (factorial(256-1)* factorial(1))\n",
        "def C_n_m(256,1):\n",
        "return factorial(256)/ (factorial(256-1)* factorial(1))\n",
        "print(C_n_m(256,1) * C_n_m(256,1) * C_n_m(256,1) * C_n_m(256,1))"
      ],
      "execution_count": 0,
      "outputs": []
    },
    {
      "cell_type": "markdown",
      "metadata": {
        "id": "IDPH-3sLd1L8",
        "colab_type": "text"
      },
      "source": [
        "**Pro**\n",
        "\n",
        "\n",
        "\n",
        "\n",
        "\n",
        "\n",
        "\n",
        "\n"
      ]
    },
    {
      "cell_type": "markdown",
      "metadata": {
        "id": "zzwh_ja4yEaH",
        "colab_type": "text"
      },
      "source": [
        "###Задача 1\n",
        "\n",
        "Сколько существует выигрышных комбинаций из 2-х карт при игре в 21?"
      ]
    },
    {
      "cell_type": "code",
      "metadata": {
        "id": "9P6rhPlpyd0b",
        "colab_type": "code",
        "colab": {}
      },
      "source": [
        ""
      ],
      "execution_count": 0,
      "outputs": []
    },
    {
      "cell_type": "markdown",
      "metadata": {
        "id": "uFHRu7aOyEmw",
        "colab_type": "text"
      },
      "source": [
        "###Задача 2\n",
        "\n",
        "У Олега дома живут 5 котов.\n",
        "\n",
        "а) сколькими способами можно усадить 4 котов по углам комнаты?\n",
        "б) сколькими способами можно выпустить котов погулять?\n",
        "в) сколькими способами Вася может взять на руки двух котов (одного на левую, другого – на правую)?"
      ]
    },
    {
      "cell_type": "code",
      "metadata": {
        "id": "b-xBfAImyeS4",
        "colab_type": "code",
        "colab": {}
      },
      "source": [
        ""
      ],
      "execution_count": 0,
      "outputs": []
    },
    {
      "cell_type": "markdown",
      "metadata": {
        "id": "y24DK-TByExK",
        "colab_type": "text"
      },
      "source": [
        "###Задача 3\n",
        "\n",
        "В лифт 12-этажного дома сели 3 пассажира. Каждый независимо от других с одинаковой вероятностью может выйти на любом (начиная со 2-го) этаже. Сколькими способами:\n",
        "\n",
        "1) пассажиры могут выйти на одном и том же этаже (порядок выхода не имеет значения);\n",
        "2) два человека могут выйти на одном этаже, а третий – на другом;\n",
        "3) люди могут выйти на разных этажах;\n",
        "4) пассажиры могут выйти из лифта?"
      ]
    },
    {
      "cell_type": "code",
      "metadata": {
        "id": "HE39EaxHye3D",
        "colab_type": "code",
        "colab": {}
      },
      "source": [
        ""
      ],
      "execution_count": 0,
      "outputs": []
    },
    {
      "cell_type": "markdown",
      "metadata": {
        "id": "9U674MWTyE5u",
        "colab_type": "text"
      },
      "source": [
        "###Задача 4\n",
        "\n",
        "Юноша занимается спортом по следующей программе:\n",
        " 3 дня в неделю - легкая атлетика.\n",
        " 3 дня - силовые тенировки. \n",
        " 1 день - плавание.\n",
        " 1 день отдых. \n",
        " \n",
        " Сколькими способами он может составить себе расписание занятий на неделю?"
      ]
    },
    {
      "cell_type": "code",
      "metadata": {
        "id": "VFiFsQBwyfVa",
        "colab_type": "code",
        "colab": {}
      },
      "source": [
        ""
      ],
      "execution_count": 0,
      "outputs": []
    },
    {
      "cell_type": "markdown",
      "metadata": {
        "id": "gAMyvdaeyFBk",
        "colab_type": "text"
      },
      "source": [
        "###Задача 5\n",
        "Сколько различных три-грамм (сочетаний по 3 буквы) можно получить перестановкой букв в словосочетании: НУЖНО ЛЮБИТЬ МАТЕМАТИКУ и КОТИКОВ?"
      ]
    },
    {
      "cell_type": "code",
      "metadata": {
        "id": "frLN-aMCeA7e",
        "colab_type": "code",
        "colab": {}
      },
      "source": [
        ""
      ],
      "execution_count": 0,
      "outputs": []
    },
    {
      "cell_type": "markdown",
      "metadata": {
        "id": "UzNhGIlbeF9r",
        "colab_type": "text"
      },
      "source": [
        "# Бинарная логика"
      ]
    },
    {
      "cell_type": "markdown",
      "metadata": {
        "id": "fhM9aNEo9ZcH",
        "colab_type": "text"
      },
      "source": [
        "**Light**"
      ]
    },
    {
      "cell_type": "markdown",
      "metadata": {
        "id": "88e7lkEjykrm",
        "colab_type": "text"
      },
      "source": [
        "###Задача 1 \n",
        "\n",
        "Представим такую ситуацию: по телевизору синоптик объявляет прогноз погоды на завтра и утверждает следующее:\n",
        "\n",
        "Если не будет ветра, то будет пасмурная погода без дождя.\n",
        "\n",
        "Если будет дождь, то будет пасмурно и без ветра.\n",
        "\n",
        "Если будет пасмурная погода, то будет дождь и не будет ветра.\n",
        "\n",
        "Так какая же погода будет завтра?"
      ]
    },
    {
      "cell_type": "code",
      "metadata": {
        "id": "R7Hw6Ywuy-OC",
        "colab_type": "code",
        "colab": {}
      },
      "source": [
        "A -> B and not C \"Если не будет ветра, то будет пасмурная погода без дождя.\" false\n",
        "C -> B and A \"Если будет дождь, то будет пасмурно и без ветра.\" true\n",
        "B -> C and A \"Если будет пасмурная погода, то будет дождь и не будет ветра.\" true\n",
        "Следовательно будет пасмурно , дождь и без ветра"
      ],
      "execution_count": 0,
      "outputs": []
    },
    {
      "cell_type": "code",
      "metadata": {
        "id": "JXGy5Xefekl4",
        "colab_type": "code",
        "colab": {}
      },
      "source": [
        ""
      ],
      "execution_count": 0,
      "outputs": []
    },
    {
      "cell_type": "markdown",
      "metadata": {
        "id": "kQjUisc3yk58",
        "colab_type": "text"
      },
      "source": [
        "###Задача 2\n",
        "\n",
        "Переведите на язык логических выражений следующие высказывания:\n",
        "1)\t«Я поеду в Москву, и если встречу там друзей,  то мы интересно проведем время».\n",
        "2)\t«Если будет солнечная погода, то ребята пойдут в лес, а если будет пасмурная погода, то ребята пойдут в кино».\n",
        "3)\t«Неверно, что если дует ветер, то солнце светит только тогда, когда нет дождя».\n",
        "4)\t«Если урок информатики будет интересным, то никто из школьников – Миша, Вика и Света – не будет смотреть в окно».\n",
        "5)\t«Неверно, что для того, чтобы человек достиг в жизни высоких результатов, необходимо и достаточно, чтобы он был гением»."
      ]
    },
    {
      "cell_type": "code",
      "metadata": {
        "id": "jKOnHFmsy-ue",
        "colab_type": "code",
        "colab": {}
      },
      "source": [
        "1) A and B -> C \n",
        "2) if A = true:\n",
        "    print('идут в лес')\n",
        "    else:\n",
        "    print(\"идут в кино\")\n",
        "3) A and B -> C false\n",
        "4) if A = true:\n",
        "    print('смотрят на доску')\n",
        "    else:\n",
        "    print(\"смотрят в окно\")\n",
        "5)A and B -> C false\n"
      ],
      "execution_count": 0,
      "outputs": []
    },
    {
      "cell_type": "markdown",
      "metadata": {
        "id": "CunrJzJOylBx",
        "colab_type": "text"
      },
      "source": [
        "###Задача 3\n",
        "\n",
        "По обвинению в ограблении перед судом предстали Иванов, Петров, Сидоров. Следствием установлено следующее:\n",
        "\n",
        "Если Иванов не виновен или Петров виновен, то Сидоров виновен.\n",
        "Если Иванов не виновен, то Сидоров не виновен.\n",
        "Кто из подозреваемых участвовал в преступлении?"
      ]
    },
    {
      "cell_type": "code",
      "metadata": {
        "id": "kmcuDFwcy_eq",
        "colab_type": "code",
        "colab": {}
      },
      "source": [
        "Iv = \"Участвовал\"\n",
        "Pet = \"Участвовал\"\n",
        "Sid = \"Участвовал\"\n",
        "!Iv or Pet -> Sid\n",
        "!Iv -> !Sid"
      ],
      "execution_count": 0,
      "outputs": []
    },
    {
      "cell_type": "markdown",
      "metadata": {
        "id": "m7iO0gH7gcmF",
        "colab_type": "text"
      },
      "source": [
        "\n",
        "**PRO**\n",
        "\n",
        "\n"
      ]
    },
    {
      "cell_type": "markdown",
      "metadata": {
        "id": "LUXKU9yUymZ8",
        "colab_type": "text"
      },
      "source": [
        "###Задача 1\n",
        "\n",
        "Для какого имени истинно высказывание:\n",
        "\n",
        "¬(Первая буква имени гласная -> Четвертая буква имени согласная)\n",
        "\n",
        "ЕЛЕНА          2) ВАДИМ      3) АНТОН      4) ФЕДОР"
      ]
    },
    {
      "cell_type": "code",
      "metadata": {
        "id": "7Aywl4jHyyHb",
        "colab_type": "code",
        "colab": {}
      },
      "source": [
        ""
      ],
      "execution_count": 0,
      "outputs": []
    },
    {
      "cell_type": "markdown",
      "metadata": {
        "id": "VKi0A6YHymie",
        "colab_type": "text"
      },
      "source": [
        "###Задача 2\n",
        "\n",
        "Обсуждая свои возможности по поступлению в вуз, абитуриенты Андрей, Борис и Владимир высказали следующие предположения\n",
        "\n",
        "Андрей: «Я не смогу поступить, а Владимир — поступит».\n",
        "\n",
        "Борис: «Владимир не поступит, а Андрей — поступит».\n",
        "\n",
        "Владимир: «Если я поступлю, то Борис — не поступит или наоборот».\n",
        "\n",
        "После сдачи экзаменов выяснилось, что каждый высказал одно верное и одно ложное простое утверждение. а) Кто поступил в вуз, если не смог поступить лишь один из них? б) Кто поступил в вуз, если поступил лишь один из них?"
      ]
    },
    {
      "cell_type": "code",
      "metadata": {
        "id": "lCJ8yYDByylt",
        "colab_type": "code",
        "colab": {}
      },
      "source": [
        ""
      ],
      "execution_count": 0,
      "outputs": []
    }
  ]
}